{
 "cells": [
  {
   "cell_type": "markdown",
   "id": "103d1bed",
   "metadata": {},
   "source": [
    "**Задача**: оцифровка документов диагностики знаний обучающихся.  \n",
    "На вход принимаются:  \n",
    "* документы в формате `pdf`, содержание таблицы с результатами по заданиям, привязанным к шифрам диагностируемого  \n",
    "* документы в формате `pdf`, содержание таблицы с соотнесением шифров с ФИО  \n",
    "\n",
    "В *результате* работы скрипта: \n",
    "* отдельные excel-файлы результатов с ФИО  \n",
    "* сводный excel-файл результатов с датами, предметами, ФИО, классами\n"
   ]
  },
  {
   "cell_type": "markdown",
   "id": "68914edd",
   "metadata": {},
   "source": [
    "Логика скрипта:  \n",
    "* распаковка из zip-архивов (включая работу с кодировками)  \n",
    "* извлечение информации из pdf и перевод в excel  \n",
    "* сбор сводного датафрейма `df_joined`  "
   ]
  },
  {
   "cell_type": "markdown",
   "id": "b1d6eb9f",
   "metadata": {},
   "source": [
    "## Используемые библиотеки   \n",
    "`os` — потребуется, чтобы работать с папками и файлами  \n",
    "`zipfile` - потребуется, чтобы распаковывать zip-архивы  \n",
    "`PyPDF2` - библиотека, которая позволяет работать с pdf-файлами. Нам важно, что информацию, записанную в файле как текст, можно перевести в единую строку текста. Внимание: нет OCR. Если страница сканированная, то без дополнительного распознавания работать не будет.    \n",
    "`tabula` - потребуется, чтобы корректно переводить таблицы в pdf-файлах в DataFrame."
   ]
  },
  {
   "cell_type": "code",
   "execution_count": 3,
   "id": "d8761579",
   "metadata": {},
   "outputs": [],
   "source": [
    "import os\n",
    "import zipfile\n",
    "import re\n",
    "from PyPDF2 import PdfReader\n",
    "import pandas as pd\n",
    "import tabula\n",
    "from tabula.io import read_pdf\n",
    "import datetime"
   ]
  },
  {
   "cell_type": "markdown",
   "id": "7b57ac65",
   "metadata": {},
   "source": [
    "### Распаковка zip-файлов  \n",
    "По условию все файлы изначально находятся в архива, поэтому распаковываем архивы и переназываем в \"читаемой\" кодировке файлы. \n",
    "\n",
    "Здесь и далее подразумевается, что есть корневая папка `path`, в которой находятся архивы с шифрами в `path/codes` (далее переменная `path_codes`) и `path/results` (далее переменная `path_results`) с шифрами и результатами диагностик соотвественно. "
   ]
  },
  {
   "cell_type": "code",
   "execution_count": 5,
   "id": "677f34f0",
   "metadata": {},
   "outputs": [],
   "source": [
    "path = \n",
    "for address, dirs, files in os.walk(path):\n",
    "    for file in files:\n",
    "        file_path = address +'/'+file\n",
    "        if 'zip' in file_path:\n",
    "            archive = zipfile.ZipFile(file_path)\n",
    "            for entry in archive.infolist():\n",
    "                encoding='cp866'\n",
    "                encode = 'cp437'\n",
    "                name = entry.filename.encode(encode).decode(encoding)\n",
    "                archive.extract(entry.filename, address)\n",
    "                os.rename(address + '/' + entry.filename, address + '/' + name)"
   ]
  },
  {
   "cell_type": "markdown",
   "id": "d291f61d",
   "metadata": {},
   "source": [
    "### Собираем данные в таблицы    \n",
    "\n",
    "С помощью `PdfReader` и функций `find_date` (`str_to_date`), `find_subject`, `find_distr`, `find_sch`, `find_cls` собираем дополнительные данные о дате, предмете, районе, школе и классе, к которому относится файл, после чего добавляем эти данные в таблицу результатов диагностик.\n",
    "\n",
    "С помощью `tabula` выделяем результаты по каждому заданию и приводим названия столбцов к общему виду (*некоторые придётся учитывать в ручную*).  \n",
    "\n",
    "Таблицы по шифрам и результатам сохранятся в excel в тех же папках, где и исходные файлы."
   ]
  },
  {
   "cell_type": "code",
   "execution_count": 6,
   "id": "7cd8d21a",
   "metadata": {},
   "outputs": [],
   "source": [
    "def str_to_date(date):\n",
    "    dates_words = {'января': 1, 'февраля': 2, 'марта': 3, 'апреля': 4, 'мая': 5, \n",
    "                   'июня': 6, 'июля': 7, 'августа': 8, 'сентября': 9, 'октября': 10, 'ноября': 11, 'декабря': 12 }\n",
    "    if '.' in date:\n",
    "        dt = datetime.datetime.strptime(date, '%d.%m.%Y')\n",
    "    elif '.' not in date and date != 'Не найдено':\n",
    "        for word, initial in dates_words.items():\n",
    "            date = date.replace(word.lower(), str(initial))                \n",
    "        date = re.sub('-.*? ', ' ', date)\n",
    "        dt = datetime.datetime.strptime(date, '%d %m %Y')\n",
    "    else:\n",
    "        dt = date\n",
    "    return dt"
   ]
  },
  {
   "cell_type": "code",
   "execution_count": 7,
   "id": "41302f31",
   "metadata": {},
   "outputs": [],
   "source": [
    "def find_date (text):\n",
    "    date = re.search(r'дата:\\s?\\d-?\\d?\\s?\\D*\\s?\\d\\d\\d\\d', text)\n",
    "    #print(date[0] if date else 'Not match')\n",
    "    date = date[0] if date else 'Не найдено'\n",
    "    if date == 'Не найдено':\n",
    "        date = re.search(r'дата: \\d{1,2}.\\d{1,2}.\\d{2,4}', text)\n",
    "        date = date[0] if date else 'Не найдено'\n",
    "    date = re.sub('дата:\\s?', '', date)\n",
    "    return date"
   ]
  },
  {
   "cell_type": "code",
   "execution_count": 8,
   "id": "67fbfd64",
   "metadata": {},
   "outputs": [],
   "source": [
    "def find_subject (text):\n",
    "    subject = re.search(r'предмет:\\s?\\S*\\b', text)\n",
    "    subject = subject[0] if subject else 'Не найдено'\n",
    "    subject = re.sub(r'предмет:\\s?', '', subject)\n",
    "    return subject"
   ]
  },
  {
   "cell_type": "code",
   "execution_count": 9,
   "id": "e8f6c439",
   "metadata": {},
   "outputs": [],
   "source": [
    "def find_distr(text):\n",
    "    distr = re.search(r'район:\\s?\\S*\\b', text)\n",
    "    distr = distr[0] if distr else 'Не найдено'\n",
    "    distr = re.sub(r'район:\\s?', '', distr)\n",
    "    return distr"
   ]
  },
  {
   "cell_type": "code",
   "execution_count": 10,
   "id": "b4f111b8",
   "metadata": {},
   "outputs": [],
   "source": [
    "def find_sch(text):\n",
    "    sch = re.search(r'школа:\\s?.*класс', text)\n",
    "    sch = sch[0] if sch else 'Не найдено'\n",
    "    sch = re.sub(r'школа:\\s?', '', sch)\n",
    "    sch = re.sub(r'\\s?класс', '', sch)\n",
    "    return sch"
   ]
  },
  {
   "cell_type": "code",
   "execution_count": 11,
   "id": "64dbd8fe",
   "metadata": {},
   "outputs": [],
   "source": [
    "def find_cls(text):\n",
    "    cls = re.search(r'класс:\\s?\\S*\\b', text)\n",
    "    cls = cls[0] if cls else 'Не найдено'\n",
    "    cls = re.sub(r'класс:\\s?', '', cls)\n",
    "    cls = re.sub(r'[\\-_,#]', '', cls)\n",
    "    return cls"
   ]
  },
  {
   "cell_type": "code",
   "execution_count": 12,
   "id": "fa25377f",
   "metadata": {
    "scrolled": false
   },
   "outputs": [],
   "source": [
    "for address, dirs, files in os.walk(path):\n",
    "    for name in files:\n",
    "        if 'pdf' not in name:\n",
    "            pass\n",
    "        else:\n",
    "            file_path = os.path.join(address, name)\n",
    "            reader = PdfReader(file_path)\n",
    "            number_of_pages = len(reader.pages)\n",
    "            page = reader.pages[0]\n",
    "            text = page.extract_text().lower()\n",
    "            \n",
    "            for d in tabula.read_pdf(file_path, pages=\"all\"):\n",
    "                d.columns = [x.lower() for x in d.columns]\n",
    "                d.columns = [re.sub('\\r', ' ',x) for x in d.columns]\n",
    "                d.rename(columns={'% выполнен ия': '% выполнения'}, inplace=True)\n",
    "                d['дата'] = find_date(text)\n",
    "                d['предмет'] = find_subject(text)\n",
    "                d['район'] = find_distr(text)\n",
    "                d['школа'] = find_sch(text)\n",
    "                d['класс'] = find_cls(text)\n",
    "                d.dropna(inplace=True)\n",
    "                d.to_excel(os.path.join(address, str(name[0:-4]) +'.xlsx'), index=False)"
   ]
  },
  {
   "cell_type": "markdown",
   "id": "1da0bb6e",
   "metadata": {},
   "source": [
    "### Сбор сводной таблицы  \n",
    "Считываем все excel файлы (отдельно шифры и отдельно результаты). Создаём сводные таблицы по кодам и результатам (функция `pivot_table`).  \n",
    "\n",
    "Объединяем данные по столбцам: `['шифр участника', 'предмет', 'класс']`. В нашем случае дата в файлах с шифрами не указывается, однако её также можно включить в столбцы `pd.merge`.\n",
    "\n",
    "Сохраняем получившийся сводный файл в папке по пути `path_to_extract` с названием `pivot.xlsx`"
   ]
  },
  {
   "cell_type": "code",
   "execution_count": 14,
   "id": "47a3a0f7",
   "metadata": {},
   "outputs": [],
   "source": [
    "def pivot_table (path):\n",
    "    df = pd.DataFrame()\n",
    "    for address, dirs, files in os.walk(path):\n",
    "        for name in files:\n",
    "            if 'xlsx' in name:\n",
    "                df_read = pd.read_excel(os.path.join(address, name))\n",
    "                df = pd.concat([df, df_read], ignore_index=True)\n",
    "    return df"
   ]
  },
  {
   "cell_type": "code",
   "execution_count": 16,
   "id": "6739ef00",
   "metadata": {
    "scrolled": true
   },
   "outputs": [],
   "source": [
    "path_codes = \n",
    "path_results = \n",
    "path_to_extract = \n",
    "\n",
    "df_codes = pivot_table(path_codes)\n",
    "df_results = pivot_table(path_results)\n",
    "#print(df_codes, '\\n',df_results)\n",
    "df_codes = df_codes[['учащийся','шифр', 'предмет', 'класс']]\n",
    "df_joined = pd.merge(df_results, df_codes, how='left', left_on=['шифр участника', 'предмет', 'класс'], right_on=['шифр', 'предмет', 'класс'])\n",
    "cols = df_joined.columns.tolist()\n",
    "cols = cols[0:1]+cols[-2:-1]+cols[1:-3]\n",
    "df_joined = df_joined[cols]\n",
    "df_joined.to_excel(os.path.join(path_to_extract + '/pivot.xlsx'), index=False)"
   ]
  }
 ],
 "metadata": {
  "kernelspec": {
   "display_name": "Python 3 (ipykernel)",
   "language": "python",
   "name": "python3"
  },
  "language_info": {
   "codemirror_mode": {
    "name": "ipython",
    "version": 3
   },
   "file_extension": ".py",
   "mimetype": "text/x-python",
   "name": "python",
   "nbconvert_exporter": "python",
   "pygments_lexer": "ipython3",
   "version": "3.9.12"
  },
  "vscode": {
   "interpreter": {
    "hash": "aee8b7b246df8f9039afb4144a1f6fd8d2ca17a180786b69acc140d282b71a49"
   }
  }
 },
 "nbformat": 4,
 "nbformat_minor": 5
}
